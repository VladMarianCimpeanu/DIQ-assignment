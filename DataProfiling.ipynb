{
 "cells": [
  {
   "cell_type": "code",
   "execution_count": 10,
   "metadata": {},
   "outputs": [],
   "source": [
    "import pandas as pd\n",
    "import pandas_profiling as pp"
   ]
  },
  {
   "cell_type": "code",
   "execution_count": 11,
   "metadata": {},
   "outputs": [],
   "source": [
    "df_adult = pd.read_csv('datasets/adult.csv')\n",
    "df_soybean = pd.read_csv('datasets/soybean.csv')"
   ]
  },
  {
   "cell_type": "code",
   "execution_count": 12,
   "metadata": {},
   "outputs": [
    {
     "name": "stderr",
     "output_type": "stream",
     "text": [
      "Summarize dataset:  63%|██████▎   | 17/27 [00:01<00:00, 11.96it/s, Calculate spearman correlation]  c:\\Users\\PC\\anaconda3\\envs\\dq\\lib\\site-packages\\multimethod\\__init__.py:184: FutureWarning: The default value of numeric_only in DataFrame.corr is deprecated. In a future version, it will default to False. Select only valid columns or specify the value of numeric_only to silence this warning.\n",
      "  return self[tuple(map(self.get_type, args))](*args, **kwargs)\n",
      "Summarize dataset: 100%|██████████| 65/65 [00:08<00:00,  7.82it/s, Completed]                             \n",
      "Generate report structure: 100%|██████████| 1/1 [00:05<00:00,  5.71s/it]\n",
      "Render HTML: 100%|██████████| 1/1 [00:02<00:00,  2.56s/it]\n",
      "Export report to file: 100%|██████████| 1/1 [00:00<00:00, 90.91it/s]\n",
      "Summarize dataset:  79%|███████▉  | 38/48 [00:05<00:01,  6.57it/s, Calculate spearman correlation]   c:\\Users\\PC\\anaconda3\\envs\\dq\\lib\\site-packages\\multimethod\\__init__.py:184: FutureWarning: The default value of numeric_only in DataFrame.corr is deprecated. In a future version, it will default to False. Select only valid columns or specify the value of numeric_only to silence this warning.\n",
      "  return self[tuple(map(self.get_type, args))](*args, **kwargs)\n",
      "Summarize dataset: 100%|██████████| 50/50 [00:14<00:00,  3.51it/s, Completed]                     \n",
      "Generate report structure: 100%|██████████| 1/1 [00:10<00:00, 10.82s/it]\n",
      "Render HTML: 100%|██████████| 1/1 [00:01<00:00,  1.68s/it]\n",
      "Export report to file: 100%|██████████| 1/1 [00:00<00:00, 90.90it/s]\n"
     ]
    }
   ],
   "source": [
    "profile_adult = pp.ProfileReport(df_adult, title=\"Adult profiling\")\n",
    "profile_adult.to_file(\"adult_profiling.html\")\n",
    "\n",
    "profile_soybean = pp.ProfileReport(df_soybean, title=\"Soybean profiling\")\n",
    "profile_soybean.to_file(\"soybean_profiling.html\")"
   ]
  }
 ],
 "metadata": {
  "kernelspec": {
   "display_name": "Python 3.10.8 ('dq')",
   "language": "python",
   "name": "python3"
  },
  "language_info": {
   "codemirror_mode": {
    "name": "ipython",
    "version": 3
   },
   "file_extension": ".py",
   "mimetype": "text/x-python",
   "name": "python",
   "nbconvert_exporter": "python",
   "pygments_lexer": "ipython3",
   "version": "3.10.8"
  },
  "orig_nbformat": 4,
  "vscode": {
   "interpreter": {
    "hash": "cfeb0be4c197445b23b14840b986ab525afa7d78aace53e0a74c52fc225bd906"
   }
  }
 },
 "nbformat": 4,
 "nbformat_minor": 2
}
