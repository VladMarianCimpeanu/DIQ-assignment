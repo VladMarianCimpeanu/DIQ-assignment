{
 "cells": [
  {
   "cell_type": "markdown",
   "metadata": {},
   "source": [
    "# Adult dataset imputation"
   ]
  },
  {
   "cell_type": "markdown",
   "metadata": {},
   "source": [
    "Data imputation notebook for the Adult dataset\n",
    "\n",
    "**NOTE**: most of the preliminary analysis (except from the pandas profiling) is done with one of the dataset containing missing values (the 90% one) because we are simulating a real scenario in which the 'perfect' dataset is not available to us."
   ]
  },
  {
   "cell_type": "code",
   "execution_count": 4,
   "metadata": {},
   "outputs": [
    {
     "name": "stdout",
     "output_type": "stream",
     "text": [
      "saved adult-completeness50%\n",
      "saved adult-completeness60%\n",
      "saved adult-completeness70%\n",
      "saved adult-completeness80%\n",
      "saved adult-completeness90%\n"
     ]
    }
   ],
   "source": [
    "import pandas as pd\n",
    "import numpy as np\n",
    "import utility.dirty_completeness as dc\n",
    "import matplotlib.pyplot as plt\n",
    "import seaborn as sns\n",
    "sns.set_context('paper', font_scale=1.4)\n",
    "sns.set_style('darkgrid')\n",
    "%matplotlib inline\n",
    "from sklearn.experimental import enable_iterative_imputer\n",
    "from sklearn.impute import SimpleImputer, KNNImputer, IterativeImputer\n",
    "\n",
    "import warnings\n",
    "warnings.simplefilter(action='ignore')\n",
    "\n",
    "df_adult = pd.read_csv('../datasets/adult.csv')\n",
    "df_list_adult = dc.injection(df_adult, 1, 'adult', 'income')\n",
    "\n",
    "df_90 = df_list_adult[4]"
   ]
  },
  {
   "cell_type": "markdown",
   "metadata": {},
   "source": [
    "### Data Profiling\n",
    "First of all we take a look at the dataset to have a better idea of what we are working with "
   ]
  },
  {
   "cell_type": "code",
   "execution_count": 27,
   "metadata": {},
   "outputs": [
    {
     "name": "stderr",
     "output_type": "stream",
     "text": [
      "Summarize dataset: 100%|██████████| 65/65 [00:08<00:00,  7.85it/s, Completed]                             \n",
      "Render JSON: 100%|██████████| 1/1 [00:00<00:00, 14.71it/s]\n",
      "Export report to file: 100%|██████████| 1/1 [00:00<00:00, 166.16it/s]\n"
     ]
    }
   ],
   "source": [
    "import pandas_profiling as pp\n",
    "profile_adult = pp.ProfileReport(df_adult, title=\"Adult profiling\")\n",
    "#profile_adult.to_file(\"adult_profiling.html\")\n",
    "profile_adult.to_file(\"../profilingReports/adult_profiling.json\")"
   ]
  },
  {
   "cell_type": "code",
   "execution_count": 28,
   "metadata": {},
   "outputs": [],
   "source": [
    "import json as j\n",
    "f = open(\"../profilingReports/adult_profiling.json\")\n",
    "jfile = j.load(f)"
   ]
  },
  {
   "cell_type": "code",
   "execution_count": 7,
   "metadata": {},
   "outputs": [
    {
     "data": {
      "text/html": [
       "<div>\n",
       "<style scoped>\n",
       "    .dataframe tbody tr th:only-of-type {\n",
       "        vertical-align: middle;\n",
       "    }\n",
       "\n",
       "    .dataframe tbody tr th {\n",
       "        vertical-align: top;\n",
       "    }\n",
       "\n",
       "    .dataframe thead th {\n",
       "        text-align: right;\n",
       "    }\n",
       "</style>\n",
       "<table border=\"1\" class=\"dataframe\">\n",
       "  <thead>\n",
       "    <tr style=\"text-align: right;\">\n",
       "      <th></th>\n",
       "      <th>age</th>\n",
       "      <th>workclass</th>\n",
       "      <th>fnlwgt</th>\n",
       "      <th>education</th>\n",
       "      <th>education-num</th>\n",
       "      <th>maritial-status</th>\n",
       "      <th>occupation</th>\n",
       "      <th>relationship</th>\n",
       "      <th>race</th>\n",
       "      <th>sex</th>\n",
       "      <th>capital-gain</th>\n",
       "      <th>capital-loss</th>\n",
       "      <th>hours-per-week</th>\n",
       "      <th>native-country</th>\n",
       "      <th>income</th>\n",
       "    </tr>\n",
       "  </thead>\n",
       "  <tbody>\n",
       "    <tr>\n",
       "      <th>0</th>\n",
       "      <td>42</td>\n",
       "      <td>Self-emp-not-inc</td>\n",
       "      <td>99185</td>\n",
       "      <td>Some-college</td>\n",
       "      <td>10</td>\n",
       "      <td>Married-civ-spouse</td>\n",
       "      <td>Exec-managerial</td>\n",
       "      <td>Husband</td>\n",
       "      <td>White</td>\n",
       "      <td>Male</td>\n",
       "      <td>0</td>\n",
       "      <td>0</td>\n",
       "      <td>40</td>\n",
       "      <td>United-States</td>\n",
       "      <td>&gt;50K</td>\n",
       "    </tr>\n",
       "    <tr>\n",
       "      <th>1</th>\n",
       "      <td>55</td>\n",
       "      <td>Private</td>\n",
       "      <td>163083</td>\n",
       "      <td>Masters</td>\n",
       "      <td>14</td>\n",
       "      <td>Married-civ-spouse</td>\n",
       "      <td>Prof-specialty</td>\n",
       "      <td>Husband</td>\n",
       "      <td>White</td>\n",
       "      <td>Male</td>\n",
       "      <td>0</td>\n",
       "      <td>0</td>\n",
       "      <td>40</td>\n",
       "      <td>United-States</td>\n",
       "      <td>&gt;50K</td>\n",
       "    </tr>\n",
       "    <tr>\n",
       "      <th>2</th>\n",
       "      <td>49</td>\n",
       "      <td>Private</td>\n",
       "      <td>340755</td>\n",
       "      <td>Masters</td>\n",
       "      <td>14</td>\n",
       "      <td>Married-civ-spouse</td>\n",
       "      <td>Sales</td>\n",
       "      <td>Husband</td>\n",
       "      <td>White</td>\n",
       "      <td>Male</td>\n",
       "      <td>0</td>\n",
       "      <td>0</td>\n",
       "      <td>40</td>\n",
       "      <td>United-States</td>\n",
       "      <td>&gt;50K</td>\n",
       "    </tr>\n",
       "    <tr>\n",
       "      <th>3</th>\n",
       "      <td>31</td>\n",
       "      <td>Private</td>\n",
       "      <td>208881</td>\n",
       "      <td>Some-college</td>\n",
       "      <td>10</td>\n",
       "      <td>Married-civ-spouse</td>\n",
       "      <td>Craft-repair</td>\n",
       "      <td>Husband</td>\n",
       "      <td>White</td>\n",
       "      <td>Male</td>\n",
       "      <td>0</td>\n",
       "      <td>0</td>\n",
       "      <td>40</td>\n",
       "      <td>United-States</td>\n",
       "      <td>&lt;=50K</td>\n",
       "    </tr>\n",
       "    <tr>\n",
       "      <th>4</th>\n",
       "      <td>19</td>\n",
       "      <td>Private</td>\n",
       "      <td>271446</td>\n",
       "      <td>Some-college</td>\n",
       "      <td>10</td>\n",
       "      <td>Never-married</td>\n",
       "      <td>Other-service</td>\n",
       "      <td>Own-child</td>\n",
       "      <td>White</td>\n",
       "      <td>Female</td>\n",
       "      <td>0</td>\n",
       "      <td>0</td>\n",
       "      <td>25</td>\n",
       "      <td>United-States</td>\n",
       "      <td>&lt;=50K</td>\n",
       "    </tr>\n",
       "  </tbody>\n",
       "</table>\n",
       "</div>"
      ],
      "text/plain": [
       "   age         workclass  fnlwgt     education  education-num  \\\n",
       "0   42  Self-emp-not-inc   99185  Some-college             10   \n",
       "1   55           Private  163083       Masters             14   \n",
       "2   49           Private  340755       Masters             14   \n",
       "3   31           Private  208881  Some-college             10   \n",
       "4   19           Private  271446  Some-college             10   \n",
       "\n",
       "      maritial-status       occupation relationship   race     sex  \\\n",
       "0  Married-civ-spouse  Exec-managerial      Husband  White    Male   \n",
       "1  Married-civ-spouse   Prof-specialty      Husband  White    Male   \n",
       "2  Married-civ-spouse            Sales      Husband  White    Male   \n",
       "3  Married-civ-spouse     Craft-repair      Husband  White    Male   \n",
       "4       Never-married    Other-service    Own-child  White  Female   \n",
       "\n",
       "   capital-gain  capital-loss  hours-per-week native-country income  \n",
       "0             0             0              40  United-States   >50K  \n",
       "1             0             0              40  United-States   >50K  \n",
       "2             0             0              40  United-States   >50K  \n",
       "3             0             0              40  United-States  <=50K  \n",
       "4             0             0              25  United-States  <=50K  "
      ]
     },
     "execution_count": 7,
     "metadata": {},
     "output_type": "execute_result"
    }
   ],
   "source": [
    "df_adult.head(5)"
   ]
  },
  {
   "cell_type": "markdown",
   "metadata": {},
   "source": [
    "Let's take a look at the features to separate categorical and numerical ones."
   ]
  },
  {
   "cell_type": "code",
   "execution_count": 8,
   "metadata": {},
   "outputs": [
    {
     "data": {
      "text/plain": [
       "age                  68\n",
       "workclass             6\n",
       "fnlwgt             2595\n",
       "education            16\n",
       "education-num        16\n",
       "maritial-status       7\n",
       "occupation           13\n",
       "relationship          6\n",
       "race                  5\n",
       "sex                   2\n",
       "capital-gain         58\n",
       "capital-loss         37\n",
       "hours-per-week       73\n",
       "native-country       38\n",
       "income                2\n",
       "dtype: int64"
      ]
     },
     "execution_count": 8,
     "metadata": {},
     "output_type": "execute_result"
    }
   ],
   "source": [
    "df_90.nunique()"
   ]
  },
  {
   "cell_type": "markdown",
   "metadata": {},
   "source": [
    "By looking at the `nunique()` output and the [Dataset documentation](https://archive.ics.uci.edu/ml/datasets/adult) we can figure out which features are categorical and which are numerical. A good amount of them are numerical but the majority is categorical. We will of course handle them differently in our analysis.\n"
   ]
  },
  {
   "cell_type": "code",
   "execution_count": 9,
   "metadata": {},
   "outputs": [],
   "source": [
    "categorical = ['workclass', 'education', 'maritial-status', 'occupation', 'relationship', 'race', 'sex', 'native-country']\n",
    "numerical = ['age', 'fnlwgt', 'education-num', 'capital-gain', 'capital-loss', 'hours-per-week']\n",
    "columns = categorical + numerical"
   ]
  },
  {
   "cell_type": "markdown",
   "metadata": {},
   "source": [
    "### Functional Dependencies\n",
    "\n",
    "The profiling operation suggested that there were some very simple dependencies that could be explited for the imputation process:\n",
    "\n",
    "- relationship and sex\n",
    "    - Husband -> Male\n",
    "    - Wife -> Female\n",
    "- education and education-num\n",
    "\n",
    "Below are some visualizations to verify the hypothesis\n",
    "\n",
    "NOTE: to do the visualization we use the 90% dataset. The functional dependencies hold true for the other datasets aswell but of course with lower support"
   ]
  },
  {
   "cell_type": "code",
   "execution_count": 10,
   "metadata": {},
   "outputs": [
    {
     "data": {
      "image/png": "[encoded data removed]",
      "text/plain": [
       "<Figure size 640x480 with 1 Axes>"
      ]
     },
     "metadata": {},
     "output_type": "display_data"
    }
   ],
   "source": [
    "sns.scatterplot(df_90[['education', 'education-num']], x='education', y='education-num')\n",
    "plt.xticks(rotation=90);"
   ]
  },
  {
   "cell_type": "code",
   "execution_count": 11,
   "metadata": {},
   "outputs": [
    {
     "data": {
      "image/png": "[encoded data removed]",
      "text/plain": [
       "<Figure size 640x480 with 1 Axes>"
      ]
     },
     "metadata": {},
     "output_type": "display_data"
    }
   ],
   "source": [
    "sns.scatterplot(df_90[['relationship', 'sex']], x='relationship', y='sex')\n",
    "plt.xticks(rotation=90);"
   ]
  },
  {
   "cell_type": "markdown",
   "metadata": {},
   "source": [
    "for further proof here is the correlation of attributes from the pandasProfiling libraty that clearly shows that: \n",
    "- education and education-num are perfectly correlated\n",
    "- sex and relationship are somewhat correlated"
   ]
  },
  {
   "cell_type": "code",
   "execution_count": 12,
   "metadata": {},
   "outputs": [
    {
     "data": {
      "text/plain": [
       "<AxesSubplot:>"
      ]
     },
     "execution_count": 12,
     "metadata": {},
     "output_type": "execute_result"
    },
    {
     "data": {
      "image/png": "[encoded data removed]",
      "text/plain": [
       "<Figure size 640x480 with 2 Axes>"
      ]
     },
     "metadata": {},
     "output_type": "display_data"
    }
   ],
   "source": [
    "df_correlation = pd.DataFrame(jfile[\"correlations\"][\"auto\"])\n",
    "sns.heatmap(df_correlation, cmap='Blues')"
   ]
  },
  {
   "cell_type": "markdown",
   "metadata": {},
   "source": [
    "now that we discovered the functional dependencies let's create 2 dictionaries that will help us exploit them for the imputation process"
   ]
  },
  {
   "cell_type": "code",
   "execution_count": 13,
   "metadata": {},
   "outputs": [
    {
     "name": "stdout",
     "output_type": "stream",
     "text": [
      "{'Husband': 'Male', 'Wife': 'Female'}\n",
      "{'Male': 'Husband', 'Female': 'Wife'}\n"
     ]
    }
   ],
   "source": [
    "sex_dict = {'Husband': 'Male', 'Wife': 'Female'}\n",
    "inv_sex_dict = {v: k for k, v in sex_dict.items()}\n",
    "print(sex_dict)\n",
    "print(inv_sex_dict)"
   ]
  },
  {
   "cell_type": "code",
   "execution_count": 14,
   "metadata": {},
   "outputs": [
    {
     "data": {
      "text/plain": [
       "{1.0: 'Preschool',\n",
       " 2.0: '1st-4th',\n",
       " 3.0: '5th-6th',\n",
       " 4.0: '7th-8th',\n",
       " 5.0: '9th',\n",
       " 6.0: '10th',\n",
       " 7.0: '11th',\n",
       " 8.0: '12th',\n",
       " 9.0: 'HS-grad',\n",
       " 10.0: 'Some-college',\n",
       " 11.0: 'Assoc-voc',\n",
       " 12.0: 'Assoc-acdm',\n",
       " 13.0: 'Bachelors',\n",
       " 14.0: 'Masters',\n",
       " 15.0: 'Prof-school',\n",
       " 16.0: 'Doctorate'}"
      ]
     },
     "execution_count": 14,
     "metadata": {},
     "output_type": "execute_result"
    }
   ],
   "source": [
    "sub_df = df_90[['education', 'education-num']]\n",
    "sub_df.dropna(inplace=True)\n",
    "sub_df.drop_duplicates(subset=['education-num'], keep='first', inplace=True)\n",
    "sub_df.set_index('education-num', inplace=True)\n",
    "sub_df.sort_index(inplace=True)\n",
    "\n",
    "temp_dict = sub_df.to_dict()\n",
    "education_dict = temp_dict['education']\n",
    "education_dict"
   ]
  },
  {
   "cell_type": "code",
   "execution_count": 15,
   "metadata": {},
   "outputs": [
    {
     "data": {
      "text/plain": [
       "{'Preschool': 1.0,\n",
       " '1st-4th': 2.0,\n",
       " '5th-6th': 3.0,\n",
       " '7th-8th': 4.0,\n",
       " '9th': 5.0,\n",
       " '10th': 6.0,\n",
       " '11th': 7.0,\n",
       " '12th': 8.0,\n",
       " 'HS-grad': 9.0,\n",
       " 'Some-college': 10.0,\n",
       " 'Assoc-voc': 11.0,\n",
       " 'Assoc-acdm': 12.0,\n",
       " 'Bachelors': 13.0,\n",
       " 'Masters': 14.0,\n",
       " 'Prof-school': 15.0,\n",
       " 'Doctorate': 16.0}"
      ]
     },
     "execution_count": 15,
     "metadata": {},
     "output_type": "execute_result"
    }
   ],
   "source": [
    "#keep also the inverse dictionary\n",
    "inv_education_dict = {v: k for k, v in education_dict.items()}\n",
    "inv_education_dict"
   ]
  },
  {
   "cell_type": "markdown",
   "metadata": {},
   "source": [
    "### Initial imputation using functional dependencies"
   ]
  },
  {
   "cell_type": "code",
   "execution_count": null,
   "metadata": {},
   "outputs": [],
   "source": [
    "# TODO"
   ]
  },
  {
   "cell_type": "markdown",
   "metadata": {},
   "source": [
    "---\n",
    "\n",
    "### Simple Imputation\n",
    "\n",
    "for the simple imputation we are using:\n",
    "- the median for numerical features\n",
    "- the most frequent value for categorical features"
   ]
  },
  {
   "cell_type": "code",
   "execution_count": 16,
   "metadata": {},
   "outputs": [],
   "source": [
    "imputed_df_list = []\n",
    "for df in df_list_adult:\n",
    "    # imputate numerical values using the median\n",
    "    df_numerical = df[numerical].copy()\n",
    "    simple_imputer = SimpleImputer(missing_values=np.NaN, strategy='median') #define the imputer model\n",
    "    adult_numerical_imp = simple_imputer.fit_transform(df_numerical) # returns numpy array\n",
    "    df_numerical_imputed = pd.DataFrame(adult_numerical_imp, columns=numerical)\n",
    "\n",
    "    # imputate categorical values using the most frequent value\n",
    "    df_cat = df[categorical].copy()\n",
    "    simple_imputer = SimpleImputer(missing_values=np.NaN, strategy='most_frequent') #define the imputer model\n",
    "    adult_categorical_imp = simple_imputer.fit_transform(df_cat) # returns numpy array\n",
    "    df_categorical_imputed = pd.DataFrame(adult_categorical_imp, columns=categorical)\n",
    "\n",
    "    imputed_df = pd.concat([df_numerical_imputed, df_categorical_imputed, df['income']], axis=1)\n",
    "\n",
    "    imputed_df_list.append(imputed_df)"
   ]
  },
  {
   "cell_type": "code",
   "execution_count": 20,
   "metadata": {},
   "outputs": [
    {
     "name": "stdout",
     "output_type": "stream",
     "text": [
      "0\n",
      "0\n",
      "0\n",
      "0\n",
      "0\n"
     ]
    }
   ],
   "source": [
    "# check that no NaN is left\n",
    "for df in imputed_df_list:\n",
    "    print(df.isnull().sum().sum())"
   ]
  },
  {
   "cell_type": "markdown",
   "metadata": {},
   "source": [
    "Now let's evaluate the accuracy of the 5 datasets"
   ]
  },
  {
   "cell_type": "code",
   "execution_count": 17,
   "metadata": {},
   "outputs": [
    {
     "data": {
      "text/plain": [
       "{'50%': 0.8706605182551194,\n",
       " '60%': 0.8939114664858367,\n",
       " '70%': 0.922009632789327,\n",
       " '80%': 0.9472438291522981,\n",
       " '90%': 0.9735564270014484}"
      ]
     },
     "execution_count": 17,
     "metadata": {},
     "output_type": "execute_result"
    }
   ],
   "source": [
    "from utility.utility import accuracy_assesment\n",
    "\n",
    "accuracy_assesment(imputed_df_list, df_adult, columns = columns, numeric_columns=numerical)"
   ]
  },
  {
   "cell_type": "markdown",
   "metadata": {},
   "source": [
    "---\n",
    "\n",
    "### Advanced Imputation\n",
    "\n",
    "For the advanced we are using a modified version of the MICE algorithm seen in class that is able to handle both *regression* and *classification*"
   ]
  },
  {
   "cell_type": "code",
   "execution_count": 21,
   "metadata": {},
   "outputs": [
    {
     "name": "stdout",
     "output_type": "stream",
     "text": [
      "loading: [===============] 100.0%\n",
      "loading: [===============] 100.0%\n",
      "loading: [===============] 100.0%\n",
      "loading: [===============] 100.0%\n",
      "loading: [===============] 100.0%\n"
     ]
    }
   ],
   "source": [
    "from utility.utility import iterative_imputation_KNN\n",
    "\n",
    "imputed_df_list_advanced = []\n",
    "for df in df_list_adult:\n",
    "    imputed_df = iterative_imputation_KNN(df, 'income', numerical)\n",
    "    imputed_df_list_advanced.append(imputed_df)"
   ]
  },
  {
   "cell_type": "code",
   "execution_count": 25,
   "metadata": {},
   "outputs": [
    {
     "name": "stdout",
     "output_type": "stream",
     "text": [
      "0\n",
      "0\n",
      "0\n",
      "0\n",
      "0\n"
     ]
    }
   ],
   "source": [
    "# check that no NaN is left\n",
    "for df in imputed_df_list_advanced:\n",
    "    print(df.isnull().sum().sum())"
   ]
  },
  {
   "cell_type": "code",
   "execution_count": 22,
   "metadata": {},
   "outputs": [
    {
     "data": {
      "text/plain": [
       "{'50%': 0.8845461235931402,\n",
       " '60%': 0.9106210365309899,\n",
       " '70%': 0.9376103940365574,\n",
       " '80%': 0.9605105033215388,\n",
       " '90%': 0.9803924094318259}"
      ]
     },
     "execution_count": 22,
     "metadata": {},
     "output_type": "execute_result"
    }
   ],
   "source": [
    "from utility.utility import accuracy_assesment\n",
    "\n",
    "accuracy_assesment(imputed_df_list_advanced, df_adult, columns = columns, numeric_columns=numerical)"
   ]
  },
  {
   "cell_type": "markdown",
   "metadata": {},
   "source": [
    "### Final considerations on imputation\n",
    "\n",
    "The advanced imputation with MICE performs slightly better that the basic one but the computational cost is completely different. \n",
    "\n",
    "MICE is about 150x slower than the simple method"
   ]
  }
 ],
 "metadata": {
  "kernelspec": {
   "display_name": "Python 3.10.8 ('dq')",
   "language": "python",
   "name": "python3"
  },
  "language_info": {
   "codemirror_mode": {
    "name": "ipython",
    "version": 3
   },
   "file_extension": ".py",
   "mimetype": "text/x-python",
   "name": "python",
   "nbconvert_exporter": "python",
   "pygments_lexer": "ipython3",
   "version": "3.10.8"
  },
  "orig_nbformat": 4,
  "vscode": {
   "interpreter": {
    "hash": "cfeb0be4c197445b23b14840b986ab525afa7d78aace53e0a74c52fc225bd906"
   }
  }
 },
 "nbformat": 4,
 "nbformat_minor": 2
}
