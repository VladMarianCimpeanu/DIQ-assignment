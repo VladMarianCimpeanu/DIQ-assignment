{
 "cells": [
  {
   "cell_type": "markdown",
   "id": "b118da78",
   "metadata": {},
   "source": [
    "# Data & Information quality assignment\n",
    "\n",
    "TODO:\n",
    "- perform data quality assesment using the following metrics:\n",
    "    - completeness\n",
    "- perform data imputation\n",
    "- perform data quality assessment again:\n",
    "    - completeness\n",
    "    - accuracy\n",
    "    \n",
    "- perform ML quality analysis"
   ]
  },
  {
   "cell_type": "code",
   "execution_count": 1,
   "id": "69ef9d8d",
   "metadata": {},
   "outputs": [],
   "source": [
    "import pandas as pd\n",
    "import numpy as np\n",
    "import matplotlib.pyplot as plt\n",
    "import seaborn as sns\n",
    "import sklearn\n",
    "import utility.dirty_completeness as dirty_completeness\n",
    "import utility.utility as utility  \n",
    "\n",
    "from sklearn.experimental import enable_iterative_imputer\n",
    "from sklearn.impute import SimpleImputer, KNNImputer, IterativeImputer\n",
    "from sklearn.neighbors import KNeighborsClassifier\n",
    "from sklearn.metrics import classification_report\n",
    "from sklearn.metrics import confusion_matrix\n",
    "\n",
    "SEED = 122\n",
    "N_ITER = 10  # <------------------- CHANGE HERE NUMBER OF ITERATIONS FOR ITERATIVE IMPUTATION METHOD.\n",
    "\n",
    "plt.style.use('fivethirtyeight')"
   ]
  },
  {
   "cell_type": "code",
   "execution_count": 2,
   "id": "13ead711",
   "metadata": {
    "scrolled": true
   },
   "outputs": [
    {
     "data": {
      "text/html": [
       "<div>\n",
       "<style scoped>\n",
       "    .dataframe tbody tr th:only-of-type {\n",
       "        vertical-align: middle;\n",
       "    }\n",
       "\n",
       "    .dataframe tbody tr th {\n",
       "        vertical-align: top;\n",
       "    }\n",
       "\n",
       "    .dataframe thead th {\n",
       "        text-align: right;\n",
       "    }\n",
       "</style>\n",
       "<table border=\"1\" class=\"dataframe\">\n",
       "  <thead>\n",
       "    <tr style=\"text-align: right;\">\n",
       "      <th></th>\n",
       "      <th>date</th>\n",
       "      <th>plant-stand</th>\n",
       "      <th>precip</th>\n",
       "      <th>temp</th>\n",
       "      <th>hail</th>\n",
       "      <th>crop-hist</th>\n",
       "      <th>area-damaged</th>\n",
       "      <th>severity</th>\n",
       "      <th>seed-tmt</th>\n",
       "      <th>germination</th>\n",
       "      <th>...</th>\n",
       "      <th>sclerotia</th>\n",
       "      <th>fruit-pods</th>\n",
       "      <th>fruit-spots</th>\n",
       "      <th>seed</th>\n",
       "      <th>mold-growth</th>\n",
       "      <th>seed-discolor</th>\n",
       "      <th>seed-size</th>\n",
       "      <th>shriveling</th>\n",
       "      <th>roots</th>\n",
       "      <th>class</th>\n",
       "    </tr>\n",
       "  </thead>\n",
       "  <tbody>\n",
       "    <tr>\n",
       "      <th>0</th>\n",
       "      <td>october</td>\n",
       "      <td>normal</td>\n",
       "      <td>gt-norm</td>\n",
       "      <td>norm</td>\n",
       "      <td>yes</td>\n",
       "      <td>same-lst-yr</td>\n",
       "      <td>low-areas</td>\n",
       "      <td>pot-severe</td>\n",
       "      <td>none</td>\n",
       "      <td>90-100</td>\n",
       "      <td>...</td>\n",
       "      <td>absent</td>\n",
       "      <td>norm</td>\n",
       "      <td>dna</td>\n",
       "      <td>norm</td>\n",
       "      <td>absent</td>\n",
       "      <td>absent</td>\n",
       "      <td>norm</td>\n",
       "      <td>absent</td>\n",
       "      <td>norm</td>\n",
       "      <td>diaporthe-stem-canker</td>\n",
       "    </tr>\n",
       "    <tr>\n",
       "      <th>1</th>\n",
       "      <td>august</td>\n",
       "      <td>normal</td>\n",
       "      <td>gt-norm</td>\n",
       "      <td>norm</td>\n",
       "      <td>yes</td>\n",
       "      <td>same-lst-two-yrs</td>\n",
       "      <td>scattered</td>\n",
       "      <td>severe</td>\n",
       "      <td>fungicide</td>\n",
       "      <td>80-89</td>\n",
       "      <td>...</td>\n",
       "      <td>absent</td>\n",
       "      <td>norm</td>\n",
       "      <td>dna</td>\n",
       "      <td>norm</td>\n",
       "      <td>absent</td>\n",
       "      <td>absent</td>\n",
       "      <td>norm</td>\n",
       "      <td>absent</td>\n",
       "      <td>norm</td>\n",
       "      <td>diaporthe-stem-canker</td>\n",
       "    </tr>\n",
       "    <tr>\n",
       "      <th>2</th>\n",
       "      <td>july</td>\n",
       "      <td>normal</td>\n",
       "      <td>gt-norm</td>\n",
       "      <td>norm</td>\n",
       "      <td>yes</td>\n",
       "      <td>same-lst-yr</td>\n",
       "      <td>scattered</td>\n",
       "      <td>severe</td>\n",
       "      <td>fungicide</td>\n",
       "      <td>lt-80</td>\n",
       "      <td>...</td>\n",
       "      <td>absent</td>\n",
       "      <td>norm</td>\n",
       "      <td>dna</td>\n",
       "      <td>norm</td>\n",
       "      <td>absent</td>\n",
       "      <td>absent</td>\n",
       "      <td>norm</td>\n",
       "      <td>absent</td>\n",
       "      <td>norm</td>\n",
       "      <td>diaporthe-stem-canker</td>\n",
       "    </tr>\n",
       "    <tr>\n",
       "      <th>3</th>\n",
       "      <td>july</td>\n",
       "      <td>normal</td>\n",
       "      <td>gt-norm</td>\n",
       "      <td>norm</td>\n",
       "      <td>yes</td>\n",
       "      <td>same-lst-yr</td>\n",
       "      <td>scattered</td>\n",
       "      <td>severe</td>\n",
       "      <td>none</td>\n",
       "      <td>80-89</td>\n",
       "      <td>...</td>\n",
       "      <td>absent</td>\n",
       "      <td>norm</td>\n",
       "      <td>dna</td>\n",
       "      <td>norm</td>\n",
       "      <td>absent</td>\n",
       "      <td>absent</td>\n",
       "      <td>norm</td>\n",
       "      <td>absent</td>\n",
       "      <td>norm</td>\n",
       "      <td>diaporthe-stem-canker</td>\n",
       "    </tr>\n",
       "    <tr>\n",
       "      <th>4</th>\n",
       "      <td>october</td>\n",
       "      <td>normal</td>\n",
       "      <td>gt-norm</td>\n",
       "      <td>norm</td>\n",
       "      <td>yes</td>\n",
       "      <td>same-lst-two-yrs</td>\n",
       "      <td>scattered</td>\n",
       "      <td>pot-severe</td>\n",
       "      <td>none</td>\n",
       "      <td>lt-80</td>\n",
       "      <td>...</td>\n",
       "      <td>absent</td>\n",
       "      <td>norm</td>\n",
       "      <td>dna</td>\n",
       "      <td>norm</td>\n",
       "      <td>absent</td>\n",
       "      <td>absent</td>\n",
       "      <td>norm</td>\n",
       "      <td>absent</td>\n",
       "      <td>norm</td>\n",
       "      <td>diaporthe-stem-canker</td>\n",
       "    </tr>\n",
       "  </tbody>\n",
       "</table>\n",
       "<p>5 rows × 36 columns</p>\n",
       "</div>"
      ],
      "text/plain": [
       "      date plant-stand   precip  temp hail         crop-hist area-damaged  \\\n",
       "0  october      normal  gt-norm  norm  yes       same-lst-yr    low-areas   \n",
       "1   august      normal  gt-norm  norm  yes  same-lst-two-yrs    scattered   \n",
       "2     july      normal  gt-norm  norm  yes       same-lst-yr    scattered   \n",
       "3     july      normal  gt-norm  norm  yes       same-lst-yr    scattered   \n",
       "4  october      normal  gt-norm  norm  yes  same-lst-two-yrs    scattered   \n",
       "\n",
       "     severity   seed-tmt germination  ... sclerotia fruit-pods fruit-spots  \\\n",
       "0  pot-severe       none      90-100  ...    absent       norm         dna   \n",
       "1      severe  fungicide       80-89  ...    absent       norm         dna   \n",
       "2      severe  fungicide       lt-80  ...    absent       norm         dna   \n",
       "3      severe       none       80-89  ...    absent       norm         dna   \n",
       "4  pot-severe       none       lt-80  ...    absent       norm         dna   \n",
       "\n",
       "   seed mold-growth seed-discolor seed-size shriveling roots  \\\n",
       "0  norm      absent        absent      norm     absent  norm   \n",
       "1  norm      absent        absent      norm     absent  norm   \n",
       "2  norm      absent        absent      norm     absent  norm   \n",
       "3  norm      absent        absent      norm     absent  norm   \n",
       "4  norm      absent        absent      norm     absent  norm   \n",
       "\n",
       "                   class  \n",
       "0  diaporthe-stem-canker  \n",
       "1  diaporthe-stem-canker  \n",
       "2  diaporthe-stem-canker  \n",
       "3  diaporthe-stem-canker  \n",
       "4  diaporthe-stem-canker  \n",
       "\n",
       "[5 rows x 36 columns]"
      ]
     },
     "execution_count": 2,
     "metadata": {},
     "output_type": "execute_result"
    }
   ],
   "source": [
    "soybean_df = pd.read_csv('../datasets/soybean.csv')\n",
    "soybean_df.head()"
   ]
  },
  {
   "cell_type": "markdown",
   "id": "0aa6bfaf",
   "metadata": {},
   "source": [
    "Exploratory analysis."
   ]
  },
  {
   "cell_type": "code",
   "execution_count": 3,
   "id": "6913e3da",
   "metadata": {},
   "outputs": [
    {
     "data": {
      "text/plain": [
       "date                7\n",
       "plant-stand         2\n",
       "precip              3\n",
       "temp                3\n",
       "hail                2\n",
       "crop-hist           4\n",
       "area-damaged        4\n",
       "severity            3\n",
       "seed-tmt            3\n",
       "germination         3\n",
       "plant-growth        2\n",
       "leaves              2\n",
       "leafspots-halo      3\n",
       "leafspots-marg      3\n",
       "leafspot-size       3\n",
       "leaf-spread         2\n",
       "leaf-malf           2\n",
       "leaf-mild           3\n",
       "stem                2\n",
       "lodging             2\n",
       "stem-cankers        4\n",
       "canker-lesion       4\n",
       "fruiting-bodies     2\n",
       "external-decay      2\n",
       "mycelium            2\n",
       "int-discolor        3\n",
       "sclerotia           2\n",
       "fruit-pods          3\n",
       "fruit-spots         4\n",
       "seed                2\n",
       "mold-growth         2\n",
       "seed-discolor       2\n",
       "seed-size           2\n",
       "shriveling          2\n",
       "roots               3\n",
       "class              15\n",
       "dtype: int64"
      ]
     },
     "execution_count": 3,
     "metadata": {},
     "output_type": "execute_result"
    }
   ],
   "source": [
    "soybean_df.nunique()"
   ]
  },
  {
   "cell_type": "markdown",
   "id": "005ab7df",
   "metadata": {},
   "source": [
    "From the [Dataset documentation](https://archive.ics.uci.edu/ml/datasets/Soybean+(Large)) we can look at the values each variable can take. We can deduce that almost all the variables are categorical.\\\n",
    "Features that are not categorical are:\n",
    "\n",
    "cyclic features:\n",
    "- date\n",
    "\n",
    "ordinal features:\n",
    "- plant-stand\n",
    "- precip\n",
    "- temp\n",
    "- germination\n"
   ]
  },
  {
   "cell_type": "markdown",
   "id": "1e4e1ef3",
   "metadata": {},
   "source": [
    "## Injection of null values."
   ]
  },
  {
   "cell_type": "code",
   "execution_count": 4,
   "id": "66f6d41f",
   "metadata": {},
   "outputs": [
    {
     "name": "stdout",
     "output_type": "stream",
     "text": [
      "saved -completeness50%\n",
      "saved -completeness60%\n",
      "saved -completeness70%\n",
      "saved -completeness80%\n",
      "saved -completeness90%\n"
     ]
    }
   ],
   "source": [
    "df_s = dirty_completeness.injection(soybean_df, SEED, name='', name_class='class')"
   ]
  },
  {
   "cell_type": "markdown",
   "id": "4a7d87e7",
   "metadata": {},
   "source": [
    "## Data quality assesment before the imputation.\n",
    "\n",
    "In this section, first we make a data quality assesment."
   ]
  },
  {
   "cell_type": "code",
   "execution_count": 5,
   "id": "7bf3dbf1",
   "metadata": {},
   "outputs": [],
   "source": [
    "X_columns = list(soybean_df.columns.values)\n",
    "X_columns.remove('class')"
   ]
  },
  {
   "cell_type": "code",
   "execution_count": 6,
   "id": "752d528a",
   "metadata": {},
   "outputs": [
    {
     "data": {
      "text/plain": [
       "[0.4979919678714859,\n",
       " 0.5994262765347103,\n",
       " 0.6953528399311533,\n",
       " 0.7990820424555365,\n",
       " 0.9016637980493403]"
      ]
     },
     "execution_count": 6,
     "metadata": {},
     "output_type": "execute_result"
    }
   ],
   "source": [
    "completeness_degree = [1 - df[X_columns].isnull().sum().sum() / (df[X_columns].shape[0] * df[X_columns].shape[1]) for df in df_s]\n",
    "completeness_degree"
   ]
  },
  {
   "cell_type": "markdown",
   "id": "51e394c9",
   "metadata": {},
   "source": [
    "## Imputation\n",
    "First, we try with a basic imputation method, then we try to use an ML method for imputation.\n",
    "In both cases we perform an exact and similarity based post imputation assesment."
   ]
  },
  {
   "cell_type": "markdown",
   "id": "4e20f35f",
   "metadata": {},
   "source": [
    "### Basic imputation method\n",
    "\n",
    "Since there are a lot of categorical features, we believe a good basic imputation method could be to fill each NaN value with the mode of its belonging column."
   ]
  },
  {
   "cell_type": "code",
   "execution_count": 7,
   "id": "b2e79325",
   "metadata": {},
   "outputs": [],
   "source": [
    "imputed_df_s_basic = []\n",
    "\n",
    "for n, df in enumerate(df_s):\n",
    "    simple_imputer = SimpleImputer(missing_values=np.NaN, strategy='most_frequent')\n",
    "    imputed_df = simple_imputer.fit_transform(df)\n",
    "    imputed_df = pd.DataFrame(imputed_df, columns=df.columns)\n",
    "    imputed_df_s_basic.append(imputed_df)\n"
   ]
  },
  {
   "cell_type": "markdown",
   "id": "1a322345",
   "metadata": {},
   "source": [
    "## Data quality assesment after the data imputation.\n",
    "\n",
    "First, we check that the completeness is 1 for each dataframe, after the imputation."
   ]
  },
  {
   "cell_type": "code",
   "execution_count": 8,
   "id": "e4dfa087",
   "metadata": {},
   "outputs": [
    {
     "name": "stdout",
     "output_type": "stream",
     "text": [
      "The completeness degree for each impute dataframe is [1.0, 1.0, 1.0, 1.0, 1.0]\n"
     ]
    }
   ],
   "source": [
    "completeness_degree = [1 - df[X_columns].isnull().sum().sum() / (df[X_columns].shape[0] * df[X_columns].shape[1]) for df in imputed_df_s_basic]\n",
    "print(f\"The completeness degree for each impute dataframe is {completeness_degree}\")"
   ]
  },
  {
   "cell_type": "markdown",
   "id": "ee31021f",
   "metadata": {},
   "source": [
    "Now, we compute the accuracy. First we mesure it using the exact matching."
   ]
  },
  {
   "cell_type": "code",
   "execution_count": 9,
   "id": "2c10f308",
   "metadata": {},
   "outputs": [
    {
     "data": {
      "text/plain": [
       "[0.858433734939759,\n",
       " 0.8866577420794288,\n",
       " 0.9132083891120035,\n",
       " 0.9424364123159303,\n",
       " 0.9721106648817492]"
      ]
     },
     "execution_count": 9,
     "metadata": {},
     "output_type": "execute_result"
    }
   ],
   "source": [
    "exact_basic_assesment = utility.accuracy_assesment(imputed_df_s_basic, soybean_df, columns=X_columns)\n",
    "exact_basic_assesment"
   ]
  },
  {
   "cell_type": "markdown",
   "id": "86ab5190",
   "metadata": {},
   "source": [
    "For the accuracy assesment based on the distance, we can convert the ordinal and cyclic variables to numerical values and mesure the accuracy based on the distance between their values.\n",
    "\n",
    "\n",
    "Date is a cyclic variable, thus, we can transform it in a vector with the following components.\n",
    "\n",
    "\n",
    "$x = to\\_ordinal(date)$\n",
    "\n",
    "\n",
    "$x = sin(\\frac{2\\pi}{12}x)$\n",
    "\n",
    "$y = to\\_ordinal(date)$\n",
    "\n",
    "\n",
    "$y = cos(\\frac{2\\pi}{12}y)$\n",
    "\n",
    "$date = \\begin{bmatrix} x & y \\end{bmatrix}$\n",
    "\n",
    "In this way, no matter where we start to enumerate the months, close months will have similar representation.\n",
    "\n",
    "From the [Dataset documentation](https://archive.ics.uci.edu/ml/datasets/Soybean+(Large)), the following ordinal features have the domain in the table:\n",
    "\n",
    "| features | original domain | ordinal domain |\n",
    "| --- | --- | --- |\n",
    "|plant-stand|lt-norm, norm, gt-norm|0, 1, 2|\n",
    "|precip|lt-norm, norm, gt-norm|0, 1, 2|\n",
    "|temp|lt-norm, norm, gt-norm|0, 1, 2|\n",
    "|germination|lt-80%, 80-89%, 90-100%|0, 1, 2|\n",
    "|severity|minor, pot-severe, severe|0, 1, 2|\n"
   ]
  },
  {
   "cell_type": "markdown",
   "id": "a2581914",
   "metadata": {},
   "source": [
    "### Transformation of date in cyclic variable."
   ]
  },
  {
   "cell_type": "code",
   "execution_count": 10,
   "id": "a64663ad",
   "metadata": {},
   "outputs": [
    {
     "data": {
      "image/png": "[encoded data removed]",
      "text/plain": [
       "<Figure size 500x500 with 1 Axes>"
      ]
     },
     "metadata": {},
     "output_type": "display_data"
    }
   ],
   "source": [
    "months = ['january',\n",
    "          'february',\n",
    "          'march',\n",
    "          'april',\n",
    "          'may',\n",
    "          'june',\n",
    "          'july',\n",
    "          'august',\n",
    "          'september', \n",
    "          'october',\n",
    "          'november',\n",
    "          'december']\n",
    "\n",
    "period = 12\n",
    "months_sin = [np.sin((2 * np.pi * i) / period) for i, _ in enumerate(months)]\n",
    "months_cos = [np.cos((2 * np.pi * i) / period) for i, _ in enumerate(months)]\n",
    "\n",
    "plt.figure(figsize=(5, 5))\n",
    "\n",
    "plt.plot([i for i in range(len(months))], months_sin, label='Sin transformation')\n",
    "plt.plot([i for i in range(len(months))], months_cos, label='Cos transformation')\n",
    "\n",
    "plt.title('Months transformation')\n",
    "plt.xticks([i for i in range(len(months))], months, rotation=90)\n",
    "plt.xlim((0, 12))\n",
    "plt.legend()\n",
    "\n",
    "plt.show()"
   ]
  },
  {
   "cell_type": "code",
   "execution_count": 11,
   "id": "3f7515c5",
   "metadata": {},
   "outputs": [
    {
     "data": {
      "image/png": "[encoded data removed]",
      "text/plain": [
       "<Figure size 500x500 with 1 Axes>"
      ]
     },
     "metadata": {},
     "output_type": "display_data"
    }
   ],
   "source": [
    "plt.figure(figsize=(5, 5))\n",
    "for c, s, month in zip(months_cos, months_sin, months):\n",
    "    plt.scatter(c, s, color='blue')\n",
    "    plt.text(c-0.15,s+0.15,s=month)\n",
    "    \n",
    "plt.show()"
   ]
  },
  {
   "cell_type": "markdown",
   "id": "c1b4844b",
   "metadata": {},
   "source": [
    "Here we add a new column, month_cos_sin, which contain a tuple (cos, sin) corresponding to the month. This column is used for the accuracy assesment."
   ]
  },
  {
   "cell_type": "code",
   "execution_count": 12,
   "id": "00cba86f",
   "metadata": {
    "scrolled": true
   },
   "outputs": [
    {
     "data": {
      "text/html": [
       "<div>\n",
       "<style scoped>\n",
       "    .dataframe tbody tr th:only-of-type {\n",
       "        vertical-align: middle;\n",
       "    }\n",
       "\n",
       "    .dataframe tbody tr th {\n",
       "        vertical-align: top;\n",
       "    }\n",
       "\n",
       "    .dataframe thead th {\n",
       "        text-align: right;\n",
       "    }\n",
       "</style>\n",
       "<table border=\"1\" class=\"dataframe\">\n",
       "  <thead>\n",
       "    <tr style=\"text-align: right;\">\n",
       "      <th></th>\n",
       "      <th>plant-stand</th>\n",
       "      <th>precip</th>\n",
       "      <th>temp</th>\n",
       "      <th>hail</th>\n",
       "      <th>crop-hist</th>\n",
       "      <th>area-damaged</th>\n",
       "      <th>severity</th>\n",
       "      <th>seed-tmt</th>\n",
       "      <th>germination</th>\n",
       "      <th>plant-growth</th>\n",
       "      <th>...</th>\n",
       "      <th>fruit-pods</th>\n",
       "      <th>fruit-spots</th>\n",
       "      <th>seed</th>\n",
       "      <th>mold-growth</th>\n",
       "      <th>seed-discolor</th>\n",
       "      <th>seed-size</th>\n",
       "      <th>shriveling</th>\n",
       "      <th>roots</th>\n",
       "      <th>class</th>\n",
       "      <th>month_cos_sin</th>\n",
       "    </tr>\n",
       "  </thead>\n",
       "  <tbody>\n",
       "    <tr>\n",
       "      <th>0</th>\n",
       "      <td>normal</td>\n",
       "      <td>gt-norm</td>\n",
       "      <td>norm</td>\n",
       "      <td>yes</td>\n",
       "      <td>same-lst-yr</td>\n",
       "      <td>low-areas</td>\n",
       "      <td>pot-severe</td>\n",
       "      <td>none</td>\n",
       "      <td>90-100</td>\n",
       "      <td>abnorm</td>\n",
       "      <td>...</td>\n",
       "      <td>norm</td>\n",
       "      <td>dna</td>\n",
       "      <td>norm</td>\n",
       "      <td>absent</td>\n",
       "      <td>absent</td>\n",
       "      <td>norm</td>\n",
       "      <td>absent</td>\n",
       "      <td>norm</td>\n",
       "      <td>diaporthe-stem-canker</td>\n",
       "      <td>(-1.8369701987210297e-16, -1.0)</td>\n",
       "    </tr>\n",
       "    <tr>\n",
       "      <th>1</th>\n",
       "      <td>normal</td>\n",
       "      <td>gt-norm</td>\n",
       "      <td>norm</td>\n",
       "      <td>yes</td>\n",
       "      <td>same-lst-two-yrs</td>\n",
       "      <td>scattered</td>\n",
       "      <td>severe</td>\n",
       "      <td>fungicide</td>\n",
       "      <td>80-89</td>\n",
       "      <td>abnorm</td>\n",
       "      <td>...</td>\n",
       "      <td>norm</td>\n",
       "      <td>dna</td>\n",
       "      <td>norm</td>\n",
       "      <td>absent</td>\n",
       "      <td>absent</td>\n",
       "      <td>norm</td>\n",
       "      <td>absent</td>\n",
       "      <td>norm</td>\n",
       "      <td>diaporthe-stem-canker</td>\n",
       "      <td>(-0.8660254037844388, -0.4999999999999997)</td>\n",
       "    </tr>\n",
       "    <tr>\n",
       "      <th>2</th>\n",
       "      <td>normal</td>\n",
       "      <td>gt-norm</td>\n",
       "      <td>norm</td>\n",
       "      <td>yes</td>\n",
       "      <td>same-lst-yr</td>\n",
       "      <td>scattered</td>\n",
       "      <td>severe</td>\n",
       "      <td>fungicide</td>\n",
       "      <td>lt-80</td>\n",
       "      <td>abnorm</td>\n",
       "      <td>...</td>\n",
       "      <td>norm</td>\n",
       "      <td>dna</td>\n",
       "      <td>norm</td>\n",
       "      <td>absent</td>\n",
       "      <td>absent</td>\n",
       "      <td>norm</td>\n",
       "      <td>absent</td>\n",
       "      <td>norm</td>\n",
       "      <td>diaporthe-stem-canker</td>\n",
       "      <td>(-1.0, 1.2246467991473532e-16)</td>\n",
       "    </tr>\n",
       "    <tr>\n",
       "      <th>3</th>\n",
       "      <td>normal</td>\n",
       "      <td>gt-norm</td>\n",
       "      <td>norm</td>\n",
       "      <td>yes</td>\n",
       "      <td>same-lst-yr</td>\n",
       "      <td>scattered</td>\n",
       "      <td>severe</td>\n",
       "      <td>none</td>\n",
       "      <td>80-89</td>\n",
       "      <td>abnorm</td>\n",
       "      <td>...</td>\n",
       "      <td>norm</td>\n",
       "      <td>dna</td>\n",
       "      <td>norm</td>\n",
       "      <td>absent</td>\n",
       "      <td>absent</td>\n",
       "      <td>norm</td>\n",
       "      <td>absent</td>\n",
       "      <td>norm</td>\n",
       "      <td>diaporthe-stem-canker</td>\n",
       "      <td>(-1.0, 1.2246467991473532e-16)</td>\n",
       "    </tr>\n",
       "    <tr>\n",
       "      <th>4</th>\n",
       "      <td>normal</td>\n",
       "      <td>gt-norm</td>\n",
       "      <td>norm</td>\n",
       "      <td>yes</td>\n",
       "      <td>same-lst-two-yrs</td>\n",
       "      <td>scattered</td>\n",
       "      <td>pot-severe</td>\n",
       "      <td>none</td>\n",
       "      <td>lt-80</td>\n",
       "      <td>abnorm</td>\n",
       "      <td>...</td>\n",
       "      <td>norm</td>\n",
       "      <td>dna</td>\n",
       "      <td>norm</td>\n",
       "      <td>absent</td>\n",
       "      <td>absent</td>\n",
       "      <td>norm</td>\n",
       "      <td>absent</td>\n",
       "      <td>norm</td>\n",
       "      <td>diaporthe-stem-canker</td>\n",
       "      <td>(-1.8369701987210297e-16, -1.0)</td>\n",
       "    </tr>\n",
       "    <tr>\n",
       "      <th>...</th>\n",
       "      <td>...</td>\n",
       "      <td>...</td>\n",
       "      <td>...</td>\n",
       "      <td>...</td>\n",
       "      <td>...</td>\n",
       "      <td>...</td>\n",
       "      <td>...</td>\n",
       "      <td>...</td>\n",
       "      <td>...</td>\n",
       "      <td>...</td>\n",
       "      <td>...</td>\n",
       "      <td>...</td>\n",
       "      <td>...</td>\n",
       "      <td>...</td>\n",
       "      <td>...</td>\n",
       "      <td>...</td>\n",
       "      <td>...</td>\n",
       "      <td>...</td>\n",
       "      <td>...</td>\n",
       "      <td>...</td>\n",
       "      <td>...</td>\n",
       "    </tr>\n",
       "    <tr>\n",
       "      <th>244</th>\n",
       "      <td>normal</td>\n",
       "      <td>gt-norm</td>\n",
       "      <td>gt-norm</td>\n",
       "      <td>yes</td>\n",
       "      <td>same-lst-two-yrs</td>\n",
       "      <td>low-areas</td>\n",
       "      <td>minor</td>\n",
       "      <td>fungicide</td>\n",
       "      <td>80-89</td>\n",
       "      <td>norm</td>\n",
       "      <td>...</td>\n",
       "      <td>diseased</td>\n",
       "      <td>colored</td>\n",
       "      <td>norm</td>\n",
       "      <td>absent</td>\n",
       "      <td>absent</td>\n",
       "      <td>norm</td>\n",
       "      <td>absent</td>\n",
       "      <td>norm</td>\n",
       "      <td>frog-eye-leaf-spot</td>\n",
       "      <td>(-0.5000000000000004, -0.8660254037844385)</td>\n",
       "    </tr>\n",
       "    <tr>\n",
       "      <th>245</th>\n",
       "      <td>normal</td>\n",
       "      <td>gt-norm</td>\n",
       "      <td>norm</td>\n",
       "      <td>yes</td>\n",
       "      <td>same-lst-sev-yrs</td>\n",
       "      <td>scattered</td>\n",
       "      <td>pot-severe</td>\n",
       "      <td>none</td>\n",
       "      <td>90-100</td>\n",
       "      <td>norm</td>\n",
       "      <td>...</td>\n",
       "      <td>diseased</td>\n",
       "      <td>colored</td>\n",
       "      <td>norm</td>\n",
       "      <td>absent</td>\n",
       "      <td>absent</td>\n",
       "      <td>norm</td>\n",
       "      <td>absent</td>\n",
       "      <td>norm</td>\n",
       "      <td>frog-eye-leaf-spot</td>\n",
       "      <td>(-0.5000000000000004, -0.8660254037844385)</td>\n",
       "    </tr>\n",
       "    <tr>\n",
       "      <th>246</th>\n",
       "      <td>normal</td>\n",
       "      <td>gt-norm</td>\n",
       "      <td>norm</td>\n",
       "      <td>yes</td>\n",
       "      <td>same-lst-yr</td>\n",
       "      <td>upper-areas</td>\n",
       "      <td>pot-severe</td>\n",
       "      <td>none</td>\n",
       "      <td>80-89</td>\n",
       "      <td>norm</td>\n",
       "      <td>...</td>\n",
       "      <td>norm</td>\n",
       "      <td>absent</td>\n",
       "      <td>norm</td>\n",
       "      <td>absent</td>\n",
       "      <td>absent</td>\n",
       "      <td>norm</td>\n",
       "      <td>absent</td>\n",
       "      <td>norm</td>\n",
       "      <td>frog-eye-leaf-spot</td>\n",
       "      <td>(-1.0, 1.2246467991473532e-16)</td>\n",
       "    </tr>\n",
       "    <tr>\n",
       "      <th>247</th>\n",
       "      <td>normal</td>\n",
       "      <td>norm</td>\n",
       "      <td>gt-norm</td>\n",
       "      <td>yes</td>\n",
       "      <td>same-lst-sev-yrs</td>\n",
       "      <td>whole-field</td>\n",
       "      <td>minor</td>\n",
       "      <td>fungicide</td>\n",
       "      <td>90-100</td>\n",
       "      <td>norm</td>\n",
       "      <td>...</td>\n",
       "      <td>diseased</td>\n",
       "      <td>brown-w/blk-specks</td>\n",
       "      <td>abnorm</td>\n",
       "      <td>absent</td>\n",
       "      <td>present</td>\n",
       "      <td>lt-norm</td>\n",
       "      <td>present</td>\n",
       "      <td>norm</td>\n",
       "      <td>frog-eye-leaf-spot</td>\n",
       "      <td>(-1.8369701987210297e-16, -1.0)</td>\n",
       "    </tr>\n",
       "    <tr>\n",
       "      <th>248</th>\n",
       "      <td>normal</td>\n",
       "      <td>norm</td>\n",
       "      <td>norm</td>\n",
       "      <td>yes</td>\n",
       "      <td>same-lst-yr</td>\n",
       "      <td>whole-field</td>\n",
       "      <td>pot-severe</td>\n",
       "      <td>other</td>\n",
       "      <td>90-100</td>\n",
       "      <td>norm</td>\n",
       "      <td>...</td>\n",
       "      <td>diseased</td>\n",
       "      <td>colored</td>\n",
       "      <td>norm</td>\n",
       "      <td>absent</td>\n",
       "      <td>absent</td>\n",
       "      <td>norm</td>\n",
       "      <td>absent</td>\n",
       "      <td>norm</td>\n",
       "      <td>frog-eye-leaf-spot</td>\n",
       "      <td>(-0.5000000000000004, -0.8660254037844385)</td>\n",
       "    </tr>\n",
       "  </tbody>\n",
       "</table>\n",
       "<p>249 rows × 36 columns</p>\n",
       "</div>"
      ],
      "text/plain": [
       "    plant-stand   precip     temp hail         crop-hist area-damaged  \\\n",
       "0        normal  gt-norm     norm  yes       same-lst-yr    low-areas   \n",
       "1        normal  gt-norm     norm  yes  same-lst-two-yrs    scattered   \n",
       "2        normal  gt-norm     norm  yes       same-lst-yr    scattered   \n",
       "3        normal  gt-norm     norm  yes       same-lst-yr    scattered   \n",
       "4        normal  gt-norm     norm  yes  same-lst-two-yrs    scattered   \n",
       "..          ...      ...      ...  ...               ...          ...   \n",
       "244      normal  gt-norm  gt-norm  yes  same-lst-two-yrs    low-areas   \n",
       "245      normal  gt-norm     norm  yes  same-lst-sev-yrs    scattered   \n",
       "246      normal  gt-norm     norm  yes       same-lst-yr  upper-areas   \n",
       "247      normal     norm  gt-norm  yes  same-lst-sev-yrs  whole-field   \n",
       "248      normal     norm     norm  yes       same-lst-yr  whole-field   \n",
       "\n",
       "       severity   seed-tmt germination plant-growth  ... fruit-pods  \\\n",
       "0    pot-severe       none      90-100       abnorm  ...       norm   \n",
       "1        severe  fungicide       80-89       abnorm  ...       norm   \n",
       "2        severe  fungicide       lt-80       abnorm  ...       norm   \n",
       "3        severe       none       80-89       abnorm  ...       norm   \n",
       "4    pot-severe       none       lt-80       abnorm  ...       norm   \n",
       "..          ...        ...         ...          ...  ...        ...   \n",
       "244       minor  fungicide       80-89         norm  ...   diseased   \n",
       "245  pot-severe       none      90-100         norm  ...   diseased   \n",
       "246  pot-severe       none       80-89         norm  ...       norm   \n",
       "247       minor  fungicide      90-100         norm  ...   diseased   \n",
       "248  pot-severe      other      90-100         norm  ...   diseased   \n",
       "\n",
       "            fruit-spots    seed mold-growth seed-discolor seed-size  \\\n",
       "0                   dna    norm      absent        absent      norm   \n",
       "1                   dna    norm      absent        absent      norm   \n",
       "2                   dna    norm      absent        absent      norm   \n",
       "3                   dna    norm      absent        absent      norm   \n",
       "4                   dna    norm      absent        absent      norm   \n",
       "..                  ...     ...         ...           ...       ...   \n",
       "244             colored    norm      absent        absent      norm   \n",
       "245             colored    norm      absent        absent      norm   \n",
       "246              absent    norm      absent        absent      norm   \n",
       "247  brown-w/blk-specks  abnorm      absent       present   lt-norm   \n",
       "248             colored    norm      absent        absent      norm   \n",
       "\n",
       "    shriveling roots                  class  \\\n",
       "0       absent  norm  diaporthe-stem-canker   \n",
       "1       absent  norm  diaporthe-stem-canker   \n",
       "2       absent  norm  diaporthe-stem-canker   \n",
       "3       absent  norm  diaporthe-stem-canker   \n",
       "4       absent  norm  diaporthe-stem-canker   \n",
       "..         ...   ...                    ...   \n",
       "244     absent  norm     frog-eye-leaf-spot   \n",
       "245     absent  norm     frog-eye-leaf-spot   \n",
       "246     absent  norm     frog-eye-leaf-spot   \n",
       "247    present  norm     frog-eye-leaf-spot   \n",
       "248     absent  norm     frog-eye-leaf-spot   \n",
       "\n",
       "                                  month_cos_sin  \n",
       "0               (-1.8369701987210297e-16, -1.0)  \n",
       "1    (-0.8660254037844388, -0.4999999999999997)  \n",
       "2                (-1.0, 1.2246467991473532e-16)  \n",
       "3                (-1.0, 1.2246467991473532e-16)  \n",
       "4               (-1.8369701987210297e-16, -1.0)  \n",
       "..                                          ...  \n",
       "244  (-0.5000000000000004, -0.8660254037844385)  \n",
       "245  (-0.5000000000000004, -0.8660254037844385)  \n",
       "246              (-1.0, 1.2246467991473532e-16)  \n",
       "247             (-1.8369701987210297e-16, -1.0)  \n",
       "248  (-0.5000000000000004, -0.8660254037844385)  \n",
       "\n",
       "[249 rows x 36 columns]"
      ]
     },
     "execution_count": 12,
     "metadata": {},
     "output_type": "execute_result"
    }
   ],
   "source": [
    "months_dict = {}\n",
    "\n",
    "for c, s, m in zip(months_cos, months_sin, months):\n",
    "    months_dict[m] = (c, s)\n",
    "\n",
    "numeric_soybean = soybean_df.copy()\n",
    "\n",
    "def convert_date_tuple(df_in):\n",
    "    \"\"\"\n",
    "    This method creates a new dataframe starting from the one given in input.\n",
    "    It adds a new column 'month_cos_sin' which contains tuples having as first element the cos part\n",
    "    of the month and as second element the sin part of the month. It removes 'date' column.\n",
    "    :param df_in: pandas dataframe reference.\n",
    "    :return: new pandas dataframe.\n",
    "    \"\"\"\n",
    "    df = df_in.copy()\n",
    "    df['month_cos_sin'] = df.apply(lambda row: (months_dict[row['date']][0], months_dict[row['date']][1]), axis=1)\n",
    "    df = df.drop(columns=['date'])\n",
    "    return df\n",
    "\n",
    "\n",
    "def convert_date(df_in):\n",
    "    \"\"\"\n",
    "    This method creates a new dataframe starting from the one given in input.\n",
    "    It adds two columns.\n",
    "    First, it adds 'month_cos' column containing the cos part of the month.\n",
    "    Second, it adds 'month_sin' column containing the sin part of the month.\n",
    "    It removes 'date' column.\n",
    "    :param df_in: pandas dataframe reference.\n",
    "    :return: new pandas dataframe.\n",
    "    \"\"\"\n",
    "    df = df_in.copy()\n",
    "    df['month_cos'] = df.apply(lambda row: months_dict[row['date']][0], axis=1)\n",
    "    df['month_sin'] = df.apply(lambda row: months_dict[row['date']][1], axis=1)\n",
    "    df = df.drop(columns=['date'])\n",
    "    return df\n",
    "    \n",
    "numeric_soybean = convert_date_tuple(numeric_soybean)\n",
    "\n",
    "numeric_soybean"
   ]
  },
  {
   "cell_type": "markdown",
   "id": "c2cb7146",
   "metadata": {},
   "source": [
    "### Transoformation of ordinal variables.\n",
    "\n",
    "| features | original domain | ordinal domain |\n",
    "| --- | --- | --- |\n",
    "|plant-stand|lt-norm, norm, gt-norm|0, 1, 2|\n",
    "|precip|lt-norm, norm, gt-norm|0, 1, 2|\n",
    "|temp|lt-norm, norm, gt-norm|0, 1, 2|\n",
    "|germination|lt-80%, 80-89%, 90-100%|0, 1, 2|\n",
    "|severity|minor, pot-severe, severe|0, 1, 2|"
   ]
  },
  {
   "cell_type": "code",
   "execution_count": 13,
   "id": "a55cc462",
   "metadata": {},
   "outputs": [],
   "source": [
    "ordinal_variables = ['plant-stand', 'precip', 'temp', 'germination', 'severity']\n",
    "\n",
    "def to_ordinal(df_in):\n",
    "    \"\"\"\n",
    "    Converts ordinal variables into numeric.\n",
    "    \"\"\"\n",
    "    df = df_in.copy()\n",
    "    \n",
    "    ordinal_values = {\n",
    "        \"lt-norm\": 0,\n",
    "        \"norm\": 1,\n",
    "        \"gt-norm\": 2,\n",
    "        \"lt-normal\": 0,\n",
    "        \"normal\": 1,\n",
    "        \"gt-normal\": 2,\n",
    "        \"lt-80\": 0,\n",
    "        \"80-89\": 1,\n",
    "        \"90-100\": 2,\n",
    "        \"minor\": 0,\n",
    "        \"pot-severe\":1,\n",
    "        \"severe\": 2\n",
    "    }\n",
    "\n",
    "    for v in ordinal_variables:\n",
    "        df[v] = df.apply(lambda row: ordinal_values[row[v]], axis=1)\n",
    "    return df\n",
    "        \n",
    "def convert_for_assesment(df_in):\n",
    "    \"\"\"\n",
    "    Prepares new dataframe having the variables transformed for an accuracy assesment based on distance.\n",
    "    \"\"\"\n",
    "    df = df_in.copy()\n",
    "    df = to_ordinal(df)\n",
    "    df = convert_date_tuple(df)\n",
    "    return df"
   ]
  },
  {
   "cell_type": "code",
   "execution_count": 14,
   "id": "86fa6233",
   "metadata": {},
   "outputs": [
    {
     "data": {
      "text/plain": [
       "[0.8744539399561043,\n",
       " 0.8990344560161391,\n",
       " 0.9217443842590802,\n",
       " 0.9505371192224171,\n",
       " 0.9752670937789001]"
      ]
     },
     "execution_count": 14,
     "metadata": {},
     "output_type": "execute_result"
    }
   ],
   "source": [
    "numeric_soybean_df = convert_for_assesment(soybean_df)\n",
    "numeric_imputed_basic = [convert_for_assesment(i) for i in imputed_df_s_basic]\n",
    "\n",
    "X_columns = list(numeric_soybean_df.columns.values)\n",
    "X_columns.remove('class')\n",
    "\n",
    "distance_basic_assesment = utility.accuracy_assesment(numeric_imputed_basic,\n",
    "                                                     numeric_soybean_df,\n",
    "                                                     columns=X_columns,\n",
    "                                                     numeric_columns=ordinal_variables,\n",
    "                                                     vector_columns=['month_cos_sin'])\n",
    "distance_basic_assesment"
   ]
  },
  {
   "cell_type": "markdown",
   "id": "b7dec8df",
   "metadata": {},
   "source": [
    "Using distances between numerical variables, the accuracy for the assesment increases with respect to an exact assesment."
   ]
  },
  {
   "cell_type": "markdown",
   "id": "52d0f97c",
   "metadata": {},
   "source": [
    "### Advanced method\n",
    "In this section, we perform a Multiple Imputation by Chained Equations technique, using a KNN model."
   ]
  },
  {
   "cell_type": "code",
   "execution_count": 15,
   "id": "ab605631",
   "metadata": {},
   "outputs": [
    {
     "name": "stdout",
     "output_type": "stream",
     "text": [
      "loading: [===============] 100.0%\n",
      "loading: [===============] 100.0%\n",
      "loading: [===============] 100.0%\n",
      "loading: [===============] 100.0%\n",
      "loading: [===============] 100.0%\n"
     ]
    }
   ],
   "source": [
    "missing_columns = list(soybean_df.columns.values)\n",
    "missing_columns.remove('class')\n",
    "\n",
    "imputed_df_s_advanced = [utility.iterative_imputation_KNN(d, 'class', n_iter=N_ITER) for d in df_s]\n",
    "exact_advanced_assesment = utility.accuracy_assesment(imputed_df_s_advanced, soybean_df, missing_columns)"
   ]
  },
  {
   "cell_type": "code",
   "execution_count": 16,
   "id": "00c86ede",
   "metadata": {},
   "outputs": [
    {
     "data": {
      "text/plain": [
       "[0.8836456938866577,\n",
       " 0.9216867469879518,\n",
       " 0.9477911646586346,\n",
       " 0.963186077643909,\n",
       " 0.9840473003123605]"
      ]
     },
     "execution_count": 16,
     "metadata": {},
     "output_type": "execute_result"
    }
   ],
   "source": [
    "exact_advanced_assesment"
   ]
  },
  {
   "cell_type": "markdown",
   "id": "b782a1fd",
   "metadata": {},
   "source": [
    "Accuracy assesment based on distances"
   ]
  },
  {
   "cell_type": "code",
   "execution_count": 17,
   "id": "fdb592d2",
   "metadata": {},
   "outputs": [
    {
     "data": {
      "text/plain": [
       "[0.8993162810319387,\n",
       " 0.9350634722605765,\n",
       " 0.9564237712965394,\n",
       " 0.96994116007176,\n",
       " 0.9873262276712865]"
      ]
     },
     "execution_count": 17,
     "metadata": {},
     "output_type": "execute_result"
    }
   ],
   "source": [
    "numeric_imputed_advanced = [convert_for_assesment(i) for i in imputed_df_s_advanced]\n",
    "\n",
    "distance_advanced_assesment = utility.accuracy_assesment(numeric_imputed_advanced,\n",
    "                                                         numeric_soybean_df,\n",
    "                                                         columns=X_columns,\n",
    "                                                         numeric_columns=ordinal_variables,\n",
    "                                                         vector_columns=['month_cos_sin'])\n",
    "distance_advanced_assesment"
   ]
  },
  {
   "cell_type": "markdown",
   "id": "d18f8899",
   "metadata": {},
   "source": [
    "Visualization of the assesment accuracy"
   ]
  },
  {
   "cell_type": "code",
   "execution_count": 18,
   "id": "3de21cb2",
   "metadata": {},
   "outputs": [
    {
     "data": {
      "image/png": "[encoded data removed]",
      "text/plain": [
       "<Figure size 640x480 with 1 Axes>"
      ]
     },
     "metadata": {},
     "output_type": "display_data"
    }
   ],
   "source": [
    "labels = [f'{p}%' for p in range(50, 100, 10)]\n",
    "\n",
    "advanced_exact = np.array(exact_advanced_assesment) * 100\n",
    "advanced_distance = np.array(distance_advanced_assesment) * 100\n",
    "\n",
    "basic_exact = np.array(exact_basic_assesment) * 100\n",
    "basic_distance = np.array(distance_basic_assesment) * 100\n",
    "\n",
    "x = np.arange(len(labels))  # the label locations\n",
    "width = 0.45  # the width of the bars\n",
    "\n",
    "fig, ax = plt.subplots()\n",
    "\n",
    "rects1 = ax.bar(x - width/2, advanced_distance, width / 4, label='Advanced method, distance metric')\n",
    "rects2 = ax.bar(x - width/4, advanced_exact, width / 4, label='Advanced method, exact metric')\n",
    "rects3 = ax.bar(x, basic_distance, width / 4, label='Basic method, distance metric')\n",
    "rects4 = ax.bar(x + width/4, basic_exact, width / 4, label='Basic method, exact metric')\n",
    "\n",
    "# Add some text for labels, title and custom x-axis tick labels, etc.\n",
    "ax.set_ylabel('Accuracy')\n",
    "ax.set_xlabel('Dataset completeness')\n",
    "ax.set_title('Assesment accuracy by dataset and imputation method')\n",
    "ax.set_xticks(x, labels)\n",
    "\n",
    "plt.legend(loc='center left', bbox_to_anchor=(1, 0.5))\n",
    "\n",
    "plt.show()"
   ]
  },
  {
   "cell_type": "markdown",
   "id": "fa16eee3",
   "metadata": {},
   "source": [
    "# Predictions\n",
    "Before making any prediction, we transform with one hot encoding the remaining categorical variables."
   ]
  },
  {
   "cell_type": "code",
   "execution_count": 19,
   "id": "77f1eb32",
   "metadata": {},
   "outputs": [],
   "source": [
    "columns_to_categorical = list(soybean_df.columns.values)\n",
    "columns_to_categorical.remove('class')\n",
    "for o in ordinal_variables:\n",
    "    columns_to_categorical.remove(o)\n",
    "columns_to_categorical.remove('date')\n"
   ]
  },
  {
   "cell_type": "code",
   "execution_count": 20,
   "id": "d5d5a332",
   "metadata": {},
   "outputs": [],
   "source": [
    "def prepare_for_fit(df_in):\n",
    "    df = df_in.copy()\n",
    "    \n",
    "    # transform categorical variables into one hot encoding.\n",
    "    df = pd.get_dummies(df, columns=columns_to_categorical)\n",
    "    \n",
    "    # transform ordinal variables.\n",
    "    df = to_ordinal(df)\n",
    "    \n",
    "    # transform cyclic variables.\n",
    "    df = convert_date(df)\n",
    "    return df"
   ]
  },
  {
   "cell_type": "markdown",
   "id": "35daec3a",
   "metadata": {},
   "source": [
    "### Predictions with Decision Trees"
   ]
  },
  {
   "cell_type": "markdown",
   "id": "98f1f58d",
   "metadata": {},
   "source": [
    "Transform data in the right format for training."
   ]
  },
  {
   "cell_type": "code",
   "execution_count": 21,
   "id": "330acd78",
   "metadata": {},
   "outputs": [],
   "source": [
    "basic_df_transformed = [prepare_for_fit(d) for d in imputed_df_s_basic]\n",
    "advanced_df_transformed = [prepare_for_fit(d) for d in imputed_df_s_advanced]\n",
    "reference_soybean_transformed = prepare_for_fit(soybean_df)"
   ]
  },
  {
   "cell_type": "markdown",
   "id": "ffeee74e",
   "metadata": {},
   "source": [
    "Build models for each dataframe."
   ]
  },
  {
   "cell_type": "code",
   "execution_count": 22,
   "id": "37f4426c",
   "metadata": {},
   "outputs": [
    {
     "name": "stdout",
     "output_type": "stream",
     "text": [
      "basic method tested\n",
      "advanced method tested\n",
      "reference tested\n"
     ]
    }
   ],
   "source": [
    "basic_accuracies = []\n",
    "basic_reports = []\n",
    "basic_confusion_matrixes = []\n",
    "\n",
    "advanced_accuracies = []\n",
    "advanced_reports = []\n",
    "advanced_confusion_matrixes = []\n",
    "\n",
    "for d in basic_df_transformed:\n",
    "    results = utility.pipeline_ML(d, 'class', SEED, utility.model_selection_decision_tree)\n",
    "    basic_accuracies.append(results[1])\n",
    "    basic_reports.append(results[2])\n",
    "    basic_confusion_matrixes.append(results[3])\n",
    "print('basic method tested')\n",
    "    \n",
    "for d in advanced_df_transformed:\n",
    "    results = utility.pipeline_ML(d, 'class', SEED, utility.model_selection_decision_tree)\n",
    "    advanced_accuracies.append(results[1])\n",
    "    advanced_reports.append(results[2])\n",
    "    advanced_confusion_matrixes.append(results[3])\n",
    "print('advanced method tested')\n",
    "\n",
    "reference_results = utility.pipeline_ML(reference_soybean_transformed, 'class', SEED, utility.model_selection_decision_tree)\n",
    "print('reference tested')"
   ]
  },
  {
   "cell_type": "code",
   "execution_count": 23,
   "id": "1f7e0279",
   "metadata": {},
   "outputs": [
    {
     "data": {
      "text/plain": [
       "[0.5733333333333334, 0.6, 0.7333333333333333, 0.7066666666666667, 0.84]"
      ]
     },
     "execution_count": 23,
     "metadata": {},
     "output_type": "execute_result"
    }
   ],
   "source": [
    "advanced_accuracies"
   ]
  },
  {
   "cell_type": "code",
   "execution_count": 24,
   "id": "b0660484",
   "metadata": {},
   "outputs": [
    {
     "data": {
      "text/plain": [
       "[0.49333333333333335,\n",
       " 0.4266666666666667,\n",
       " 0.5733333333333334,\n",
       " 0.7066666666666667,\n",
       " 0.7866666666666666]"
      ]
     },
     "execution_count": 24,
     "metadata": {},
     "output_type": "execute_result"
    }
   ],
   "source": [
    "basic_accuracies"
   ]
  },
  {
   "cell_type": "code",
   "execution_count": 25,
   "id": "7770cc7b",
   "metadata": {},
   "outputs": [
    {
     "data": {
      "text/plain": [
       "0.8266666666666667"
      ]
     },
     "execution_count": 25,
     "metadata": {},
     "output_type": "execute_result"
    }
   ],
   "source": [
    "reference_results[1]"
   ]
  },
  {
   "cell_type": "code",
   "execution_count": 26,
   "id": "59388cc3",
   "metadata": {},
   "outputs": [
    {
     "data": {
      "image/png": "[encoded data removed]",
      "text/plain": [
       "<Figure size 640x480 with 1 Axes>"
      ]
     },
     "metadata": {},
     "output_type": "display_data"
    }
   ],
   "source": [
    "labels = [f'{p}%' for p in range(50, 110, 10)]\n",
    "\n",
    "advanced_accuracies_plot = np.array(advanced_accuracies) * 100\n",
    "basic_accuracies_plot = np.array(basic_accuracies) * 100\n",
    "\n",
    "reference_accuracy_plot = reference_results[1] * 100\n",
    "\n",
    "x = np.arange(len(labels))  # the label locations\n",
    "width = 0.45  # the width of the bars\n",
    "\n",
    "fig, ax = plt.subplots()\n",
    "\n",
    "rects1 = ax.bar(x[:-1] + width/4, basic_accuracies_plot, width / 2, label=' basic imputation method')\n",
    "rects2 = ax.bar(x[: -1] - width/4, advanced_accuracies_plot, width / 2, label='Advanced imputation method')\n",
    "\n",
    "rect_reference = ax.bar(x[-1] - width/4, reference_accuracy_plot, width / 2, label='Accuracy on original cleaned data.')\n",
    "\n",
    "\n",
    "# Add some text for labels, title and custom x-axis tick labels, etc.\n",
    "ax.set_ylabel('Accuracy')\n",
    "ax.set_xlabel('Dataset completeness')\n",
    "ax.set_title('Testing accuracy by dataset and imputation method with Decision tree.')\n",
    "ax.set_xticks(x, labels)\n",
    "\n",
    "plt.legend(loc='center left', bbox_to_anchor=(1, 0.5))\n",
    "\n",
    "plt.show()"
   ]
  }
 ],
 "metadata": {
  "kernelspec": {
   "display_name": "Python 3 (ipykernel)",
   "language": "python",
   "name": "python3"
  },
  "language_info": {
   "codemirror_mode": {
    "name": "ipython",
    "version": 3
   },
   "file_extension": ".py",
   "mimetype": "text/x-python",
   "name": "python",
   "nbconvert_exporter": "python",
   "pygments_lexer": "ipython3",
   "version": "3.8.13"
  }
 },
 "nbformat": 4,
 "nbformat_minor": 5
}
